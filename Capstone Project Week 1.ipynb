{
    "cells": [
        {
            "cell_type": "markdown",
            "metadata": {
                "collapsed": true
            },
            "source": "# Capstone Project - The Battle of the Neighborhoods"
        },
        {
            "cell_type": "markdown",
            "metadata": {},
            "source": "Created with IBM Watson Studio"
        },
        {
            "cell_type": "markdown",
            "metadata": {},
            "source": "# Suitable New Store Locations for In-N-Out Burger in Long Island, New York"
        },
        {
            "cell_type": "markdown",
            "metadata": {},
            "source": "**This notebook contains data for Week 1 of 2 for the Capstone Project**"
        },
        {
            "cell_type": "markdown",
            "metadata": {},
            "source": "**You will find the following content within this notebook:**"
        },
        {
            "cell_type": "markdown",
            "metadata": {},
            "source": "1. A description of the problem and a discussion of the background\n2. A description of the data and how it will be used to solve the problem"
        },
        {
            "cell_type": "markdown",
            "metadata": {},
            "source": "# *Introduction and Discussion of the Background and Problem*"
        },
        {
            "cell_type": "markdown",
            "metadata": {},
            "source": "![alt text](https://cdn.vox-cdn.com/thumbor/QAHAlmzILtfkS1BPI1JihJiFLKg=/0x0:3100x2064/920x613/filters:focal(1306x1102:1802x1598):format(webp)/cdn.vox-cdn.com/uploads/chorus_image/image/64819385/546065892.jpg.0.jpg)"
        },
        {
            "cell_type": "markdown",
            "metadata": {},
            "source": "## Locations for New In-N-Out Burgers in Long Island, New York"
        },
        {
            "cell_type": "markdown",
            "metadata": {},
            "source": "**Description of The Problem At Hand**"
        },
        {
            "cell_type": "markdown",
            "metadata": {},
            "source": "In-N-Out Burger is an incredibly popular fast food joint on the West Coast of the United States, but just a fabled myth here in my home state of New York. It is not uncommon to hear friends talk about their first destination upon arriving to California being to eat at an In-N-Out Burger. This has always made me think about how successful an In-N-Out Burger would be if opened in New York. New York is the perfect place to start, and this project will aim to prove that.\n\nIn-N-Out Burger sells food for very low prices. Most items on the menu are under $6, making it highly affordable and desirable as a quick meal. The main places to get burgers on Long Island are Burger King, Five Guys, and Shake Shack. While these are all popular options, I believe In-N-Out Burger will find great success among Long Islanders due to the fact that it would be a novelty here."
        },
        {
            "cell_type": "markdown",
            "metadata": {},
            "source": "**Criteria**"
        },
        {
            "cell_type": "markdown",
            "metadata": {},
            "source": "Qualitative data will be used to prove that the best locations for a fast food burger joint is not necessarily dependent on the location of other fast food restaurants. In fact, most McDonald's locations also have Wendy's and/or Burger King's within walking distance. \n\nWith this information in mind, the analysis and subsequent recommendations for new locations will focus on general districts, not specific addresses. Narrowing down the district will provide more flexible research to be conducted afterwards. Examples include understanding the districts' demographics, understanding *why* it will be succesful in that location which will open the door to finding other districts as well. "
        },
        {
            "cell_type": "markdown",
            "metadata": {},
            "source": "**Why Use Data Science?**"
        },
        {
            "cell_type": "markdown",
            "metadata": {},
            "source": "Leveraging data will save the company officers countless hours on research and analysis. In addition, if a template can be created to find the success of a district, it can be reused in the future for other locations which would save even more time, and give a higher degree of confidence in expanding."
        },
        {
            "cell_type": "markdown",
            "metadata": {},
            "source": "**Potential Outcomes**"
        },
        {
            "cell_type": "markdown",
            "metadata": {},
            "source": "The goal of this project is to identify the best districts on Long Island to open In-N-Out Burger. The data will ultimately be presented in an easy to understand format which can be presented to company management so that everybody can understand. "
        },
        {
            "cell_type": "markdown",
            "metadata": {},
            "source": "Thank you for taking the time to read this introduction! For project Methodology, Exploratory Data Analysis, Inferences, and Discussions; please refer to the notebook Capstone Project Week 2."
        }
    ],
    "metadata": {
        "kernelspec": {
            "display_name": "Python 3.6",
            "language": "python",
            "name": "python3"
        },
        "language_info": {
            "codemirror_mode": {
                "name": "ipython",
                "version": 3
            },
            "file_extension": ".py",
            "mimetype": "text/x-python",
            "name": "python",
            "nbconvert_exporter": "python",
            "pygments_lexer": "ipython3",
            "version": "3.6.9"
        }
    },
    "nbformat": 4,
    "nbformat_minor": 1
}